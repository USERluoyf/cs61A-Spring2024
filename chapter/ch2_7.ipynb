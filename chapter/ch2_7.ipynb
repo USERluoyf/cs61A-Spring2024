{
 "cells": [
  {
   "cell_type": "markdown",
   "metadata": {},
   "source": [
    "**2.7   Object Abstraction**"
   ]
  },
  {
   "cell_type": "markdown",
   "metadata": {},
   "source": [
    "***2.7.1   String Conversion***"
   ]
  },
  {
   "cell_type": "code",
   "execution_count": 1,
   "metadata": {},
   "outputs": [],
   "source": [
    "from datetime import date\n",
    "tues = date(2019, 1, 1)\n"
   ]
  },
  {
   "cell_type": "code",
   "execution_count": 2,
   "metadata": {},
   "outputs": [
    {
     "data": {
      "text/plain": [
       "'datetime.date(2019, 1, 1)'"
      ]
     },
     "execution_count": 2,
     "metadata": {},
     "output_type": "execute_result"
    }
   ],
   "source": [
    "repr(tues)"
   ]
  },
  {
   "cell_type": "code",
   "execution_count": 3,
   "metadata": {},
   "outputs": [
    {
     "data": {
      "text/plain": [
       "'2019-01-01'"
      ]
     },
     "execution_count": 3,
     "metadata": {},
     "output_type": "execute_result"
    }
   ],
   "source": [
    "str(tues)"
   ]
  },
  {
   "cell_type": "code",
   "execution_count": 4,
   "metadata": {},
   "outputs": [
    {
     "data": {
      "text/plain": [
       "'2019-01-01'"
      ]
     },
     "execution_count": 4,
     "metadata": {},
     "output_type": "execute_result"
    }
   ],
   "source": [
    "tues.__str__()"
   ]
  },
  {
   "cell_type": "code",
   "execution_count": 5,
   "metadata": {},
   "outputs": [
    {
     "data": {
      "text/plain": [
       "'datetime.date(2019, 1, 1)'"
      ]
     },
     "execution_count": 5,
     "metadata": {},
     "output_type": "execute_result"
    }
   ],
   "source": [
    "tues.__repr__()"
   ]
  },
  {
   "cell_type": "markdown",
   "metadata": {},
   "source": [
    "***2.7.2   Special Methods***"
   ]
  },
  {
   "cell_type": "code",
   "execution_count": 1,
   "metadata": {},
   "outputs": [
    {
     "data": {
      "text/plain": [
       "10"
      ]
     },
     "execution_count": 1,
     "metadata": {},
     "output_type": "execute_result"
    }
   ],
   "source": [
    "len('dasdwfgerf')"
   ]
  },
  {
   "cell_type": "code",
   "execution_count": 3,
   "metadata": {},
   "outputs": [
    {
     "data": {
      "text/plain": [
       "10"
      ]
     },
     "execution_count": 3,
     "metadata": {},
     "output_type": "execute_result"
    }
   ],
   "source": [
    "'dasdwfgerf'.__len__()"
   ]
  },
  {
   "cell_type": "code",
   "execution_count": 4,
   "metadata": {},
   "outputs": [
    {
     "data": {
      "text/plain": [
       "'d'"
      ]
     },
     "execution_count": 4,
     "metadata": {},
     "output_type": "execute_result"
    }
   ],
   "source": [
    "'dasdwfgerf'[3]"
   ]
  },
  {
   "cell_type": "code",
   "execution_count": 5,
   "metadata": {},
   "outputs": [
    {
     "data": {
      "text/plain": [
       "'d'"
      ]
     },
     "execution_count": 5,
     "metadata": {},
     "output_type": "execute_result"
    }
   ],
   "source": [
    "'dasdwfgerf'.__getitem__(3)"
   ]
  },
  {
   "cell_type": "markdown",
   "metadata": {},
   "source": [
    "**Callable objects**. In Python, functions are first-class objects, so they can be passed around as data and have attributes like any other object. Python also allows us to define objects that can be \"called\" like functions by including a __call__ method. With this method, we can define a class that behaves like a higher-order function."
   ]
  },
  {
   "cell_type": "code",
   "execution_count": 6,
   "metadata": {},
   "outputs": [],
   "source": [
    "def make_adder(n):\n",
    "    def adder(k):\n",
    "        return n + k\n",
    "    return adder"
   ]
  },
  {
   "cell_type": "code",
   "execution_count": 7,
   "metadata": {},
   "outputs": [
    {
     "data": {
      "text/plain": [
       "7"
      ]
     },
     "execution_count": 7,
     "metadata": {},
     "output_type": "execute_result"
    }
   ],
   "source": [
    "add_three = make_adder(3)\n",
    "add_three(4)"
   ]
  },
  {
   "cell_type": "code",
   "execution_count": 8,
   "metadata": {},
   "outputs": [
    {
     "data": {
      "text/plain": [
       "7"
      ]
     },
     "execution_count": 8,
     "metadata": {},
     "output_type": "execute_result"
    }
   ],
   "source": [
    "add_three.__call__(4)"
   ]
  },
  {
   "cell_type": "code",
   "execution_count": 9,
   "metadata": {},
   "outputs": [],
   "source": [
    "class adder():\n",
    "    def __init__(self, n):\n",
    "        self.n = n\n",
    "    def __call__(self, k):\n",
    "        return self.n + k\n",
    "add_four = adder(4)"
   ]
  },
  {
   "cell_type": "code",
   "execution_count": 10,
   "metadata": {},
   "outputs": [
    {
     "data": {
      "text/plain": [
       "9"
      ]
     },
     "execution_count": 10,
     "metadata": {},
     "output_type": "execute_result"
    }
   ],
   "source": [
    "add_four(5)"
   ]
  },
  {
   "cell_type": "markdown",
   "metadata": {},
   "source": [
    "Here, the Adder class behaves like the make_adder higher-order function, and the add_three_obj object behaves like the add_three function. We have further blurred the line between data and functions."
   ]
  },
  {
   "cell_type": "markdown",
   "metadata": {},
   "source": [
    "***2.7.3   Multiple Representations***"
   ]
  },
  {
   "cell_type": "code",
   "execution_count": 91,
   "metadata": {},
   "outputs": [],
   "source": [
    "\n",
    "    \n",
    "class Complex(Number):\n",
    "    def add(self, other):\n",
    "        return ComplexRI(self.real + other.real, self.imag + other.imag)\n",
    "    def mul(self, other):\n",
    "        magnitude = self.magnitude * other.magnitude\n",
    "        return ComplexMA(magnitude, self.angle + other.angle)\n",
    "    \n",
    "from math import atan2\n",
    "class ComplexRI(Complex):\n",
    "    def __init__(self, real, imag):\n",
    "        self.real = real\n",
    "        self.imag = imag\n",
    "    @property\n",
    "    def magnitude(self):\n",
    "        return (self.real ** 2 + self.imag ** 2) ** 0.5\n",
    "    @property\n",
    "    def angle(self):\n",
    "        return atan2(self.imag, self.real)\n",
    "    def __repr__(self):\n",
    "        return 'ComplexRI({0:g}, {1:g})'.format(self.real, self.imag)\n",
    "from math import sin, cos, pi\n",
    "class ComplexMA(Complex):\n",
    "    def __init__(self, magnitude, angle):\n",
    "        self.magnitude = magnitude\n",
    "        self.angle = angle\n",
    "    @property\n",
    "    def real(self):\n",
    "        return self.magnitude * cos(self.angle)\n",
    "    @property\n",
    "    def imag(self):\n",
    "        return self.magnitude * sin(self.angle)\n",
    "    def __repr__(self):\n",
    "        return 'ComplexMA({0:g}, {1:g} * pi)'.format(self.magnitude, self.angle / pi)\n"
   ]
  },
  {
   "cell_type": "code",
   "execution_count": 92,
   "metadata": {},
   "outputs": [
    {
     "data": {
      "text/plain": [
       "ComplexRI(1, 2)"
      ]
     },
     "execution_count": 92,
     "metadata": {},
     "output_type": "execute_result"
    }
   ],
   "source": [
    "ComplexRI(1, 2) "
   ]
  },
  {
   "cell_type": "code",
   "execution_count": 93,
   "metadata": {},
   "outputs": [],
   "source": [
    "ri = ComplexRI(1, 2)"
   ]
  },
  {
   "cell_type": "code",
   "execution_count": 94,
   "metadata": {},
   "outputs": [
    {
     "data": {
      "text/plain": [
       "ComplexRI(1, 2)"
      ]
     },
     "execution_count": 94,
     "metadata": {},
     "output_type": "execute_result"
    }
   ],
   "source": [
    "ri"
   ]
  },
  {
   "cell_type": "code",
   "execution_count": 95,
   "metadata": {},
   "outputs": [
    {
     "data": {
      "text/plain": [
       "2.23606797749979"
      ]
     },
     "execution_count": 95,
     "metadata": {},
     "output_type": "execute_result"
    }
   ],
   "source": [
    "ri.magnitude"
   ]
  },
  {
   "cell_type": "code",
   "execution_count": 96,
   "metadata": {},
   "outputs": [],
   "source": [
    "ComplexMA.type_tag = 'com'\n",
    "ComplexRI.type_tag = 'com'"
   ]
  },
  {
   "cell_type": "code",
   "execution_count": 97,
   "metadata": {},
   "outputs": [
    {
     "data": {
      "text/plain": [
       "-2.0"
      ]
     },
     "execution_count": 97,
     "metadata": {},
     "output_type": "execute_result"
    }
   ],
   "source": [
    "ma = ComplexMA(2, pi)\n",
    "ma.angle = pi\n",
    "ma.real"
   ]
  },
  {
   "cell_type": "markdown",
   "metadata": {},
   "source": [
    "Our implementation of complex numbers is now complete. Either class implementing complex numbers can be used for either argument in either arithmetic function in Complex."
   ]
  },
  {
   "cell_type": "code",
   "execution_count": 98,
   "metadata": {},
   "outputs": [
    {
     "data": {
      "text/plain": [
       "ComplexRI(1, 4)"
      ]
     },
     "execution_count": 98,
     "metadata": {},
     "output_type": "execute_result"
    }
   ],
   "source": [
    "from math import pi\n",
    "ComplexRI(1,2) + ComplexMA(2, pi/2)"
   ]
  },
  {
   "cell_type": "code",
   "execution_count": 99,
   "metadata": {},
   "outputs": [
    {
     "data": {
      "text/plain": [
       "ComplexMA(4.47214, 0.852416 * pi)"
      ]
     },
     "execution_count": 99,
     "metadata": {},
     "output_type": "execute_result"
    }
   ],
   "source": [
    "ComplexRI(1,2) * ComplexMA(2, pi/2)"
   ]
  },
  {
   "cell_type": "markdown",
   "metadata": {},
   "source": [
    "**2.7.4 Generic Functions**"
   ]
  },
  {
   "cell_type": "code",
   "execution_count": 100,
   "metadata": {},
   "outputs": [],
   "source": [
    "from math import gcd"
   ]
  },
  {
   "cell_type": "code",
   "execution_count": 101,
   "metadata": {},
   "outputs": [],
   "source": [
    "class Rational(Number):\n",
    "    def __init__(self, numer, denom):\n",
    "        g = gcd(numer, denom)\n",
    "        self.numer = numer // g\n",
    "        self.denom = denom // g\n",
    "    def __repr__(self):\n",
    "        return 'Rational({0}, {1})'.format(self.numer, self.denom)\n",
    "    def add(self, other):\n",
    "        nx, dy = self.numer, self.denom\n",
    "        ny, dx = other.numer, other.denom\n",
    "        return Rational(nx * dx + ny * dy, dy * dx)\n",
    "    def mul(self, other):\n",
    "        return Rational(self.numer * other.numer, self.denom * other.denom)\n",
    "    type_tag = 'rat'"
   ]
  },
  {
   "cell_type": "code",
   "execution_count": 102,
   "metadata": {},
   "outputs": [
    {
     "data": {
      "text/plain": [
       "Rational(5, 6)"
      ]
     },
     "execution_count": 102,
     "metadata": {},
     "output_type": "execute_result"
    }
   ],
   "source": [
    "Rational(1, 2) + Rational(1, 3)"
   ]
  },
  {
   "cell_type": "code",
   "execution_count": 103,
   "metadata": {},
   "outputs": [
    {
     "data": {
      "text/plain": [
       "True"
      ]
     },
     "execution_count": 103,
     "metadata": {},
     "output_type": "execute_result"
    }
   ],
   "source": [
    "c = ComplexRI(1, 2)\n",
    "isinstance(c, Complex)"
   ]
  },
  {
   "cell_type": "code",
   "execution_count": 104,
   "metadata": {},
   "outputs": [
    {
     "data": {
      "text/plain": [
       "False"
      ]
     },
     "execution_count": 104,
     "metadata": {},
     "output_type": "execute_result"
    }
   ],
   "source": [
    "isinstance(c, ComplexMA)"
   ]
  },
  {
   "cell_type": "code",
   "execution_count": 105,
   "metadata": {},
   "outputs": [],
   "source": [
    "def is_real(c):\n",
    "    if isinstance(c, ComplexRI):\n",
    "        return c.imag == 0\n",
    "    elif isinstance(c, ComplexMA) and c.angle % pi == 0:\n",
    "        return c.angle % pi == 0\n",
    "    "
   ]
  },
  {
   "cell_type": "code",
   "execution_count": 106,
   "metadata": {},
   "outputs": [
    {
     "data": {
      "text/plain": [
       "True"
      ]
     },
     "execution_count": 106,
     "metadata": {},
     "output_type": "execute_result"
    }
   ],
   "source": [
    "is_real(ComplexRI(1, 0))\n"
   ]
  },
  {
   "cell_type": "code",
   "execution_count": 107,
   "metadata": {},
   "outputs": [
    {
     "data": {
      "text/plain": [
       "True"
      ]
     },
     "execution_count": 107,
     "metadata": {},
     "output_type": "execute_result"
    }
   ],
   "source": [
    "is_real(ComplexMA(1, pi))"
   ]
  },
  {
   "cell_type": "code",
   "execution_count": 108,
   "metadata": {},
   "outputs": [],
   "source": [
    "Rational.type_tag = 'rat'\n",
    "ComplexRI.type_tag = 'com'"
   ]
  },
  {
   "cell_type": "code",
   "execution_count": 109,
   "metadata": {},
   "outputs": [
    {
     "data": {
      "text/plain": [
       "True"
      ]
     },
     "execution_count": 109,
     "metadata": {},
     "output_type": "execute_result"
    }
   ],
   "source": [
    "Rational(1, 2).type_tag == Rational(1,3).type_tag"
   ]
  },
  {
   "cell_type": "code",
   "execution_count": 110,
   "metadata": {},
   "outputs": [
    {
     "data": {
      "text/plain": [
       "False"
      ]
     },
     "execution_count": 110,
     "metadata": {},
     "output_type": "execute_result"
    }
   ],
   "source": [
    "Rational(1, 2).type_tag == ComplexRI(1, 2).type_tag"
   ]
  },
  {
   "cell_type": "code",
   "execution_count": 111,
   "metadata": {},
   "outputs": [],
   "source": [
    "def add_complex_and_rational(c, r):\n",
    "    return ComplexRI(c.real + r.numer/r.denom, c.imag)"
   ]
  },
  {
   "cell_type": "code",
   "execution_count": 112,
   "metadata": {},
   "outputs": [],
   "source": [
    "def mul_complex_and_rational(c, r):\n",
    "    r_magnitude = r.numer / r.denom\n",
    "    r_angle = 0\n",
    "    if r_magnitude < 0:\n",
    "        r_magnitude, r_angle = -r_magnitude, pi\n",
    "    return ComplexMA(c.magnitude * r_magnitude, c.angle + r_angle)\n"
   ]
  },
  {
   "cell_type": "code",
   "execution_count": 113,
   "metadata": {},
   "outputs": [],
   "source": [
    "def add_rational_and_complex(r, c):\n",
    "    return add_complex_and_rational(c, r)\n",
    "def mul_rational_and_complex(r, c):\n",
    "    return mul_complex_and_rational(c, r)"
   ]
  },
  {
   "cell_type": "code",
   "execution_count": 115,
   "metadata": {},
   "outputs": [],
   "source": [
    "class Number:\n",
    "    def __add__(self, other):\n",
    "        if self.type_tag == other.type_tag:\n",
    "            return self.add(other)\n",
    "        elif (self.type_tag, other.type_tag) in self.adders:\n",
    "            return self.cross_apply(other, self.adders)\n",
    "    def __mul__(self, other):\n",
    "        if self.type_tag == other.type_tag:\n",
    "            return self.mul(other)\n",
    "        elif (self.type_tag, other.type_tag) in self.multipliers:\n",
    "            return self.cross_apply(other, self.multipliers)\n",
    "    def cross_apply(self, other, cross_fns):\n",
    "        cross_fn = cross_fns[(self.type_tag, other.type_tag)]\n",
    "        return cross_fn(self, other)\n",
    "    adders = {('com', 'rat'): add_complex_and_rational, ( 'rat', 'com'): add_rational_and_complex}\n",
    "    multipliers = {('com', 'rat'): mul_complex_and_rational, ('rat', 'com'): mul_rational_and_complex}\n",
    " "
   ]
  },
  {
   "cell_type": "code",
   "execution_count": 116,
   "metadata": {},
   "outputs": [
    {
     "data": {
      "text/plain": [
       "ComplexRI(1.5, 2)"
      ]
     },
     "execution_count": 116,
     "metadata": {},
     "output_type": "execute_result"
    }
   ],
   "source": [
    "ComplexRI(1, 2) + Rational(1, 2)"
   ]
  },
  {
   "cell_type": "code",
   "execution_count": 117,
   "metadata": {},
   "outputs": [
    {
     "data": {
      "text/plain": [
       "ComplexMA(0.931048, 0.319546 * pi)"
      ]
     },
     "execution_count": 117,
     "metadata": {},
     "output_type": "execute_result"
    }
   ],
   "source": [
    "Rational(1, 2) * ComplexRI(1, pi/2)"
   ]
  },
  {
   "cell_type": "markdown",
   "metadata": {},
   "source": [
    "**Coercion.** In the general situation of completely unrelated operations acting on completely unrelated types, implementing explicit cross-type operations, cumbersome though it may be, is the best that one can hope for. Fortunately, we can sometimes do better by taking advantage of additional structure that may be latent in our type system. Often the different data types are not completely independent, and there may be ways by which objects of one type may be viewed as being of another type. This process is called coercion. For example, if we are asked to arithmetically combine a rational number with a complex number, we can view the rational number as a complex number whose imaginary part is zero. After doing so, we can use Complex.add and Complex.mul to combine them."
   ]
  },
  {
   "cell_type": "code",
   "execution_count": 118,
   "metadata": {},
   "outputs": [],
   "source": [
    "def rational_to_complex(r):\n",
    "    return ComplexRI(r.numer, r.denom)"
   ]
  },
  {
   "cell_type": "code",
   "execution_count": null,
   "metadata": {},
   "outputs": [],
   "source": [
    "class Number:\n",
    "    def __add__(self, other):\n",
    "        x, y = self.coerce(other)\n",
    "        return x.add(y)\n",
    "    def __mul__(self, other):\n",
    "        x, y = self.coerce(other)\n",
    "        return x.mul(y)\n",
    "    def coerce(self, other):\n",
    "        if self.type_tag == other.type_tag:\n",
    "            return self, other\n",
    "        elif (self.type_tag, other.type_tag) in self.coercions:\n",
    "            return (self.coerce_to(other), other)\n",
    "        elif (other.type_tag, self.type_tag) in self.coercions:\n",
    "            return (self, other.coerce_to(self.tag_type))\n",
    "    def coerce_to(self, other_tag):\n",
    "        coercion_fn = self.coercions[(self.type_tag, other_tag)]\n",
    "        return coercion_fn(self)\n",
    "    coercions = {( 'rat', 'com'): rational_to_complex}"
   ]
  }
 ],
 "metadata": {
  "kernelspec": {
   "display_name": "Python 3",
   "language": "python",
   "name": "python3"
  },
  "language_info": {
   "codemirror_mode": {
    "name": "ipython",
    "version": 3
   },
   "file_extension": ".py",
   "mimetype": "text/x-python",
   "name": "python",
   "nbconvert_exporter": "python",
   "pygments_lexer": "ipython3",
   "version": "3.11.7"
  }
 },
 "nbformat": 4,
 "nbformat_minor": 2
}
