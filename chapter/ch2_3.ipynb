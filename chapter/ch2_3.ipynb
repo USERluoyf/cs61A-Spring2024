{
 "cells": [
  {
   "cell_type": "markdown",
   "metadata": {},
   "source": [
    "**2.3   Sequences**"
   ]
  },
  {
   "cell_type": "markdown",
   "metadata": {},
   "source": [
    "***2.3.1   Lists***"
   ]
  },
  {
   "cell_type": "code",
   "execution_count": 1,
   "metadata": {},
   "outputs": [
    {
     "data": {
      "text/plain": [
       "4"
      ]
     },
     "execution_count": 1,
     "metadata": {},
     "output_type": "execute_result"
    }
   ],
   "source": [
    "digits = [1, 8, 9, 7]\n",
    "len(digits)"
   ]
  },
  {
   "cell_type": "code",
   "execution_count": 2,
   "metadata": {},
   "outputs": [
    {
     "data": {
      "text/plain": [
       "7"
      ]
     },
     "execution_count": 2,
     "metadata": {},
     "output_type": "execute_result"
    }
   ],
   "source": [
    "digits[3]"
   ]
  },
  {
   "cell_type": "code",
   "execution_count": 3,
   "metadata": {},
   "outputs": [
    {
     "data": {
      "text/plain": [
       "[1, 8, 9, 7, 1, 8, 9, 7]"
      ]
     },
     "execution_count": 3,
     "metadata": {},
     "output_type": "execute_result"
    }
   ],
   "source": [
    "digits*2"
   ]
  },
  {
   "cell_type": "code",
   "execution_count": 4,
   "metadata": {},
   "outputs": [
    {
     "data": {
      "text/plain": [
       "[2, 7, 1, 8, 9, 7, 1, 8, 9, 7]"
      ]
     },
     "execution_count": 4,
     "metadata": {},
     "output_type": "execute_result"
    }
   ],
   "source": [
    "[2, 7] + digits * 2"
   ]
  },
  {
   "cell_type": "code",
   "execution_count": 5,
   "metadata": {},
   "outputs": [
    {
     "data": {
      "text/plain": [
       "[30, 40]"
      ]
     },
     "execution_count": 5,
     "metadata": {},
     "output_type": "execute_result"
    }
   ],
   "source": [
    "pairs = [[10, 20], [30, 40]]\n",
    "pairs[1]"
   ]
  },
  {
   "cell_type": "code",
   "execution_count": 6,
   "metadata": {},
   "outputs": [
    {
     "data": {
      "text/plain": [
       "30"
      ]
     },
     "execution_count": 6,
     "metadata": {},
     "output_type": "execute_result"
    }
   ],
   "source": [
    "pairs[1][0]"
   ]
  },
  {
   "cell_type": "markdown",
   "metadata": {},
   "source": [
    "***2.3.2   Sequence Iteration***"
   ]
  },
  {
   "cell_type": "code",
   "execution_count": 7,
   "metadata": {},
   "outputs": [
    {
     "data": {
      "text/plain": [
       "1"
      ]
     },
     "execution_count": 7,
     "metadata": {},
     "output_type": "execute_result"
    }
   ],
   "source": [
    "def count(s, value):\n",
    "    total, index = 0, 0\n",
    "    while index < len(s):\n",
    "        if s[index] == value:\n",
    "            total += 1\n",
    "        index += 1\n",
    "    return total\n",
    "count(digits, 8)"
   ]
  },
  {
   "cell_type": "markdown",
   "metadata": {},
   "source": [
    "The Python for statement can simplify this function body by iterating over the element values directly without introducing the name index at all"
   ]
  },
  {
   "cell_type": "code",
   "execution_count": 8,
   "metadata": {},
   "outputs": [
    {
     "data": {
      "text/plain": [
       "1"
      ]
     },
     "execution_count": 8,
     "metadata": {},
     "output_type": "execute_result"
    }
   ],
   "source": [
    "def count(s, value):\n",
    "    total = 0\n",
    "    for i in s:\n",
    "        if i == value:\n",
    "            total += 1\n",
    "    return total\n",
    "count(digits, 1)"
   ]
  },
  {
   "cell_type": "code",
   "execution_count": 9,
   "metadata": {},
   "outputs": [
    {
     "data": {
      "text/plain": [
       "2"
      ]
     },
     "execution_count": 9,
     "metadata": {},
     "output_type": "execute_result"
    }
   ],
   "source": [
    "pairs = [[1, 2], [1, 1], [2, 3], [4, 4]]\n",
    "same_count = 0\n",
    "for x, y in pairs:\n",
    "    if x == y:\n",
    "        same_count += 1\n",
    "same_count"
   ]
  },
  {
   "cell_type": "code",
   "execution_count": 10,
   "metadata": {},
   "outputs": [
    {
     "data": {
      "text/plain": [
       "range(1, 10)"
      ]
     },
     "execution_count": 10,
     "metadata": {},
     "output_type": "execute_result"
    }
   ],
   "source": [
    "range(1, 10)"
   ]
  },
  {
   "cell_type": "code",
   "execution_count": 11,
   "metadata": {},
   "outputs": [
    {
     "data": {
      "text/plain": [
       "[5, 6, 7]"
      ]
     },
     "execution_count": 11,
     "metadata": {},
     "output_type": "execute_result"
    }
   ],
   "source": [
    "list(range(5, 8))"
   ]
  },
  {
   "cell_type": "code",
   "execution_count": 12,
   "metadata": {},
   "outputs": [
    {
     "data": {
      "text/plain": [
       "[0, 1, 2]"
      ]
     },
     "execution_count": 12,
     "metadata": {},
     "output_type": "execute_result"
    }
   ],
   "source": [
    "list(range(3))"
   ]
  },
  {
   "cell_type": "code",
   "execution_count": 13,
   "metadata": {},
   "outputs": [
    {
     "name": "stdout",
     "output_type": "stream",
     "text": [
      "Go!\n",
      "Go!\n",
      "Go!\n"
     ]
    }
   ],
   "source": [
    "for i in range(3):\n",
    "    print('Go!')"
   ]
  },
  {
   "cell_type": "markdown",
   "metadata": {},
   "source": [
    "***2.3.3   Sequence Processing***"
   ]
  },
  {
   "cell_type": "code",
   "execution_count": 14,
   "metadata": {},
   "outputs": [
    {
     "data": {
      "text/plain": [
       "[2, 4, 6, 8, 10]"
      ]
     },
     "execution_count": 14,
     "metadata": {},
     "output_type": "execute_result"
    }
   ],
   "source": [
    "odds = [1, 3, 5, 7, 9]\n",
    "[x+1 for x in odds]"
   ]
  },
  {
   "cell_type": "code",
   "execution_count": 15,
   "metadata": {},
   "outputs": [
    {
     "data": {
      "text/plain": [
       "[1, 5]"
      ]
     },
     "execution_count": 15,
     "metadata": {},
     "output_type": "execute_result"
    }
   ],
   "source": [
    "[x for x in odds if 25%x == 0]"
   ]
  },
  {
   "cell_type": "code",
   "execution_count": 16,
   "metadata": {},
   "outputs": [
    {
     "data": {
      "text/plain": [
       "[1]"
      ]
     },
     "execution_count": 16,
     "metadata": {},
     "output_type": "execute_result"
    }
   ],
   "source": [
    "def divisors(n):\n",
    "    return [1] + [x for x in range(2, n) if n % x == 0]\n",
    "divisors(1)"
   ]
  },
  {
   "cell_type": "code",
   "execution_count": 17,
   "metadata": {},
   "outputs": [
    {
     "data": {
      "text/plain": [
       "[1, 6, 28, 496, 8128]"
      ]
     },
     "execution_count": 17,
     "metadata": {},
     "output_type": "execute_result"
    }
   ],
   "source": [
    "[n for n in range(1, 10000) if sum(divisors(n)) == n]"
   ]
  },
  {
   "cell_type": "code",
   "execution_count": 18,
   "metadata": {},
   "outputs": [],
   "source": [
    "def width(area, height):\n",
    "    assert area % height == 0\n",
    "    return area // height\n",
    "\n",
    "def perimeter(width, height):\n",
    "    return (width + height) * 2\n",
    "\n",
    "def minimun_perimeter(area):\n",
    "    heights = divisors(area)\n",
    "    perimeters = [perimeter(width(area, height), height) for height in heights]\n",
    "    return min(perimeters)"
   ]
  },
  {
   "cell_type": "code",
   "execution_count": 19,
   "metadata": {},
   "outputs": [
    {
     "data": {
      "text/plain": [
       "36"
      ]
     },
     "execution_count": 19,
     "metadata": {},
     "output_type": "execute_result"
    }
   ],
   "source": [
    "area = 80\n",
    "minimun_perimeter(area)"
   ]
  },
  {
   "cell_type": "code",
   "execution_count": 20,
   "metadata": {},
   "outputs": [],
   "source": [
    "def apply_to_all(map_fn, s):\n",
    "    return [map_fn(x) for x in s]"
   ]
  },
  {
   "cell_type": "code",
   "execution_count": 21,
   "metadata": {},
   "outputs": [],
   "source": [
    "def keep_if(filter_fn, s):\n",
    "    return [x for x in s if filter_fn(x)]\n",
    "\n",
    "def reduce(reduce_fn, s, initial):\n",
    "    reduced = initial\n",
    "    for x in s:\n",
    "        reduced = reduce_fn(reduced, x)\n",
    "    return reduced"
   ]
  },
  {
   "cell_type": "code",
   "execution_count": 22,
   "metadata": {},
   "outputs": [
    {
     "data": {
      "text/plain": [
       "64"
      ]
     },
     "execution_count": 22,
     "metadata": {},
     "output_type": "execute_result"
    }
   ],
   "source": [
    "def mul(a, b):\n",
    "    return a*b\n",
    "reduce(mul, [2, 4, 8], 1)"
   ]
  },
  {
   "cell_type": "code",
   "execution_count": 23,
   "metadata": {},
   "outputs": [],
   "source": [
    "def divisors_of(n):\n",
    "    divides_n = lambda x: n % x == 0\n",
    "    return [1] + keep_if(divides_n, range(2,n))"
   ]
  },
  {
   "cell_type": "code",
   "execution_count": 24,
   "metadata": {},
   "outputs": [
    {
     "data": {
      "text/plain": [
       "[1, 2, 3, 4, 6]"
      ]
     },
     "execution_count": 24,
     "metadata": {},
     "output_type": "execute_result"
    }
   ],
   "source": [
    "divisors_of(12)"
   ]
  },
  {
   "cell_type": "code",
   "execution_count": 25,
   "metadata": {},
   "outputs": [
    {
     "data": {
      "text/plain": [
       "[1, 6, 28, 496, 8128]"
      ]
     },
     "execution_count": 25,
     "metadata": {},
     "output_type": "execute_result"
    }
   ],
   "source": [
    "from operator import add\n",
    "def sum_of_divisors(n):\n",
    "    return reduce(add, divisors_of(n), 0)\n",
    "def perfect(n):\n",
    "    return n == sum_of_divisors(n)\n",
    "keep_if(perfect, range(1,10000))"
   ]
  },
  {
   "cell_type": "code",
   "execution_count": 26,
   "metadata": {},
   "outputs": [
    {
     "data": {
      "text/plain": [
       "240"
      ]
     },
     "execution_count": 26,
     "metadata": {},
     "output_type": "execute_result"
    }
   ],
   "source": [
    "from functools import reduce\n",
    "def products(s):\n",
    "    return reduce(mul, s, 2)\n",
    "products([1, 2, 3, 4, 5])"
   ]
  },
  {
   "cell_type": "markdown",
   "metadata": {},
   "source": [
    "***2.3.4   Sequence Abstraction***"
   ]
  },
  {
   "cell_type": "code",
   "execution_count": 27,
   "metadata": {},
   "outputs": [
    {
     "data": {
      "text/plain": [
       "False"
      ]
     },
     "execution_count": 27,
     "metadata": {},
     "output_type": "execute_result"
    }
   ],
   "source": [
    "digits\n",
    "2 in digits"
   ]
  },
  {
   "cell_type": "code",
   "execution_count": 28,
   "metadata": {},
   "outputs": [
    {
     "data": {
      "text/plain": [
       "[1, 8]"
      ]
     },
     "execution_count": 28,
     "metadata": {},
     "output_type": "execute_result"
    }
   ],
   "source": [
    "digits[0:2]"
   ]
  },
  {
   "cell_type": "markdown",
   "metadata": {},
   "source": [
    "***2.3.5   Strings***"
   ]
  },
  {
   "cell_type": "code",
   "execution_count": 29,
   "metadata": {},
   "outputs": [
    {
     "data": {
      "text/plain": [
       "'I am string!'"
      ]
     },
     "execution_count": 29,
     "metadata": {},
     "output_type": "execute_result"
    }
   ],
   "source": [
    "'I am string!'"
   ]
  },
  {
   "cell_type": "code",
   "execution_count": 30,
   "metadata": {},
   "outputs": [
    {
     "data": {
      "text/plain": [
       "8"
      ]
     },
     "execution_count": 30,
     "metadata": {},
     "output_type": "execute_result"
    }
   ],
   "source": [
    "city = 'Berkeley'\n",
    "len(city)"
   ]
  },
  {
   "cell_type": "code",
   "execution_count": 31,
   "metadata": {},
   "outputs": [
    {
     "data": {
      "text/plain": [
       "'e'"
      ]
     },
     "execution_count": 31,
     "metadata": {},
     "output_type": "execute_result"
    }
   ],
   "source": [
    "city[4]"
   ]
  },
  {
   "cell_type": "code",
   "execution_count": 32,
   "metadata": {},
   "outputs": [
    {
     "data": {
      "text/plain": [
       "'Beijing Shanghai'"
      ]
     },
     "execution_count": 32,
     "metadata": {},
     "output_type": "execute_result"
    }
   ],
   "source": [
    "'Beijing ' + 'Shanghai'"
   ]
  },
  {
   "cell_type": "code",
   "execution_count": 33,
   "metadata": {},
   "outputs": [
    {
     "data": {
      "text/plain": [
       "False"
      ]
     },
     "execution_count": 33,
     "metadata": {},
     "output_type": "execute_result"
    }
   ],
   "source": [
    "'jii' in 'Beijing'"
   ]
  },
  {
   "cell_type": "code",
   "execution_count": 34,
   "metadata": {},
   "outputs": [
    {
     "data": {
      "text/plain": [
       "'[1, 8, 9, 7]'"
      ]
     },
     "execution_count": 34,
     "metadata": {},
     "output_type": "execute_result"
    }
   ],
   "source": [
    "str(digits)"
   ]
  },
  {
   "cell_type": "code",
   "execution_count": 35,
   "metadata": {},
   "outputs": [
    {
     "data": {
      "text/plain": [
       "'7 is an element of [1, 8, 9, 7]'"
      ]
     },
     "execution_count": 35,
     "metadata": {},
     "output_type": "execute_result"
    }
   ],
   "source": [
    "str(7) + ' is an element of ' + str(digits)"
   ]
  },
  {
   "cell_type": "markdown",
   "metadata": {},
   "source": [
    "***2.3.6   Trees***"
   ]
  },
  {
   "cell_type": "code",
   "execution_count": 89,
   "metadata": {},
   "outputs": [],
   "source": [
    "def tree(root_label, branches=[]):\n",
    "    for branch in branches:\n",
    "        assert is_tree(branch)\n",
    "    return [root_label] + list(branches)\n",
    "\n",
    "def label(tree):\n",
    "    return tree[0]\n",
    "\n",
    "def branches(tree):\n",
    "    return tree[1:]\n",
    "\n",
    "def is_tree(tree):\n",
    "    if type(tree) != list or len(tree) < 1:\n",
    "        return False\n",
    "    for branch in branches(tree):\n",
    "        if not is_tree(branch):\n",
    "            return False\n",
    "    return True\n",
    "def is_leaf(tree):\n",
    "    return not branches(tree)"
   ]
  },
  {
   "cell_type": "code",
   "execution_count": 72,
   "metadata": {},
   "outputs": [
    {
     "data": {
      "text/plain": [
       "False"
      ]
     },
     "execution_count": 72,
     "metadata": {},
     "output_type": "execute_result"
    }
   ],
   "source": [
    "is_tree([])"
   ]
  },
  {
   "cell_type": "code",
   "execution_count": 73,
   "metadata": {},
   "outputs": [
    {
     "data": {
      "text/plain": [
       "[3, [1], [2, [1], [1]]]"
      ]
     },
     "execution_count": 73,
     "metadata": {},
     "output_type": "execute_result"
    }
   ],
   "source": [
    "t = tree(3, [tree(1), tree(2, [tree(1), tree(1)])])\n",
    "t"
   ]
  },
  {
   "cell_type": "code",
   "execution_count": 74,
   "metadata": {},
   "outputs": [
    {
     "data": {
      "text/plain": [
       "3"
      ]
     },
     "execution_count": 74,
     "metadata": {},
     "output_type": "execute_result"
    }
   ],
   "source": [
    "label(t)"
   ]
  },
  {
   "cell_type": "code",
   "execution_count": 75,
   "metadata": {},
   "outputs": [
    {
     "data": {
      "text/plain": [
       "[[1], [2, [1], [1]]]"
      ]
     },
     "execution_count": 75,
     "metadata": {},
     "output_type": "execute_result"
    }
   ],
   "source": [
    "branches(t)"
   ]
  },
  {
   "cell_type": "code",
   "execution_count": 76,
   "metadata": {},
   "outputs": [
    {
     "data": {
      "text/plain": [
       "2"
      ]
     },
     "execution_count": 76,
     "metadata": {},
     "output_type": "execute_result"
    }
   ],
   "source": [
    "label(branches(t)[1])"
   ]
  },
  {
   "cell_type": "code",
   "execution_count": 77,
   "metadata": {},
   "outputs": [
    {
     "data": {
      "text/plain": [
       "True"
      ]
     },
     "execution_count": 77,
     "metadata": {},
     "output_type": "execute_result"
    }
   ],
   "source": [
    "is_leaf(branches(t)[0])"
   ]
  },
  {
   "cell_type": "markdown",
   "metadata": {},
   "source": [
    "Tree-recursive functions can be used to construct trees. For example, the nth Fibonacci tree has a root label of the nth Fibonacci number and, for n > 1, two branches that are also Fibonacci trees. A Fibonacci tree illustrates the tree-recursive computation of a Fibonacci number."
   ]
  },
  {
   "cell_type": "code",
   "execution_count": 78,
   "metadata": {},
   "outputs": [
    {
     "data": {
      "text/plain": [
       "[5, [2, [1], [1, [0], [1]]], [3, [1, [0], [1]], [2, [1], [1, [0], [1]]]]]"
      ]
     },
     "execution_count": 78,
     "metadata": {},
     "output_type": "execute_result"
    }
   ],
   "source": [
    "def fib_tree(n):\n",
    "    if n ==0 or n ==1:\n",
    "        return tree(n)\n",
    "    else:\n",
    "        return tree(label(fib_tree(n-2))+label(fib_tree(n-1)), [fib_tree(n-2), fib_tree(n-1)])\n",
    "fib_tree(5)"
   ]
  },
  {
   "cell_type": "code",
   "execution_count": 79,
   "metadata": {},
   "outputs": [
    {
     "data": {
      "text/plain": [
       "8"
      ]
     },
     "execution_count": 79,
     "metadata": {},
     "output_type": "execute_result"
    }
   ],
   "source": [
    "def count_leaves(tree):\n",
    "    if is_leaf(tree):\n",
    "        return 1\n",
    "    else:\n",
    "        branch_leaves = [count_leaves(b) for b in branches(tree)]\n",
    "        return sum(branch_leaves)\n",
    "count_leaves(fib_tree(5))"
   ]
  },
  {
   "cell_type": "markdown",
   "metadata": {},
   "source": [
    "**Partition trees.** Trees can also be used to represent the partitions of an integer. A partition tree for n using parts up to size m is a binary (two branch) tree that represents the choices taken during computation. In a non-leaf partition tree:\n",
    "\n",
    "* the left (index 0) branch contains all ways of partitioning n using at least one m,\n",
    "* the right (index 1) branch contains partitions using parts up to m-1, and\n",
    "* the root label is m.\n",
    "The labels at the leaves of a partition tree express whether the path from the root of the tree to the leaf represents a successful partition of n."
   ]
  },
  {
   "cell_type": "code",
   "execution_count": 80,
   "metadata": {},
   "outputs": [
    {
     "data": {
      "text/plain": [
       "[2,\n",
       " [2, [False], [1, [True], [False]]],\n",
       " [1, [1, [1, [True], [False]], [False]], [False]]]"
      ]
     },
     "execution_count": 80,
     "metadata": {},
     "output_type": "execute_result"
    }
   ],
   "source": [
    "def partition_tree(n, m):\n",
    "    if n == 0:\n",
    "        return tree(True)\n",
    "    elif n < 0 or m == 0:\n",
    "        return tree(False)\n",
    "    else:\n",
    "        left = partition_tree(n-m, m)\n",
    "        right = partition_tree(n, m-1)\n",
    "        return tree(m, [left, right])\n",
    "    \n",
    "partition_tree(3,2)"
   ]
  },
  {
   "cell_type": "code",
   "execution_count": 81,
   "metadata": {},
   "outputs": [
    {
     "name": "stdout",
     "output_type": "stream",
     "text": [
      "1+2+3\n"
     ]
    }
   ],
   "source": [
    "print('+'.join(['1','2','3']))"
   ]
  },
  {
   "cell_type": "code",
   "execution_count": 82,
   "metadata": {},
   "outputs": [],
   "source": [
    "l, r = branches(partition_tree(6,4))\n"
   ]
  },
  {
   "cell_type": "code",
   "execution_count": 83,
   "metadata": {},
   "outputs": [],
   "source": [
    "def print_parts(tree, partition=[]):\n",
    "    if is_leaf(tree):\n",
    "        if label(tree):\n",
    "            print('+'.join(partition))\n",
    "    else:\n",
    "        left, right = branches(tree)\n",
    "        m = str(label(tree))\n",
    "        print_parts(left, partition + [m])\n",
    "        print_parts(right, partition)\n",
    "\n"
   ]
  },
  {
   "cell_type": "code",
   "execution_count": 95,
   "metadata": {},
   "outputs": [
    {
     "name": "stdout",
     "output_type": "stream",
     "text": [
      "4+2\n",
      "4+1+1\n",
      "3+3\n",
      "3+2+1\n",
      "3+1+1+1\n",
      "2+2+2\n",
      "2+2+1+1\n",
      "2+1+1+1+1\n",
      "1+1+1+1+1+1\n"
     ]
    }
   ],
   "source": [
    "print_parts(partition_tree(6,4))"
   ]
  },
  {
   "cell_type": "code",
   "execution_count": null,
   "metadata": {},
   "outputs": [],
   "source": [
    "\"\"\"\n",
    "def right_binarize(tree):\n",
    "        \"\"\"Construct a right-branching binary tree.\"\"\"\n",
    "        if is_leaf(tree):\n",
    "            return tree\n",
    "        if len(tree) > 2:\n",
    "            tree = [tree[0], tree[1:]]\n",
    "        return [right_binarize(b) for b in tree]\n",
    "\"\"\"\n",
    "\n",
    "# Is [1, 2, 3, 4, 5, 6, 7] a tree?\n",
    "\n",
    "def right_binarize(tree):\n",
    "    if type(tree) == int:\n",
    "        return tree\n",
    "    if len(tree) > 2:\n",
    "        tree = [tree[0], tree[1:]]\n",
    "    return [right_binarize(b) for b in tree]"
   ]
  },
  {
   "cell_type": "code",
   "execution_count": 137,
   "metadata": {},
   "outputs": [
    {
     "data": {
      "text/plain": [
       "[1, [2, [3, [4, [5, [6, 7]]]]]]"
      ]
     },
     "execution_count": 137,
     "metadata": {},
     "output_type": "execute_result"
    }
   ],
   "source": [
    "right_binarize([1, 2, 3, 4, 5, 6, 7])"
   ]
  },
  {
   "cell_type": "markdown",
   "metadata": {},
   "source": [
    "***2.3.7   Linked Lists***\n",
    "\n",
    "So far, we have used only native types to represent sequences. However, we can also develop sequence representations that are not built into Python. A common representation of a sequence constructed from nested pairs is called a linked list. The environment diagram below illustrates the linked list representation of a four-element sequence containing 1, 2, 3, and 4."
   ]
  },
  {
   "cell_type": "code",
   "execution_count": 1,
   "metadata": {},
   "outputs": [],
   "source": [
    "four = [1, [2, [3, [4, 'empty']]]]"
   ]
  },
  {
   "cell_type": "code",
   "execution_count": 2,
   "metadata": {},
   "outputs": [],
   "source": [
    "empty = 'empty'\n",
    "def is_link(s):\n",
    "    \"\"\"s is a linked list if it is empty or a (first, rest) pair.\"\"\"\n",
    "    return s == empty or (len(s) == 2 and is_link(s[1]))\n",
    "def link(first, rest):\n",
    "    assert is_link(rest), \"rest must be a linked list.\"\n",
    "    return [first, rest]\n",
    "def first(s):\n",
    "    assert is_link(s), \"first only applies to linked lists.\"\n",
    "    assert s!= empty, \"empty linked list has no first element.\"\n",
    "    return s[0]\n",
    "def rest(s):\n",
    "    assert is_link(s), \"rest only applies to linked lists.\"\n",
    "    assert s!= empty, \"empty linked list has no rest.\"\n",
    "    return s[1]\n"
   ]
  },
  {
   "cell_type": "code",
   "execution_count": 3,
   "metadata": {},
   "outputs": [
    {
     "data": {
      "text/plain": [
       "1"
      ]
     },
     "execution_count": 3,
     "metadata": {},
     "output_type": "execute_result"
    }
   ],
   "source": [
    "four = link(1, link(2, link(3, link(4, empty))))\n",
    "first(four)"
   ]
  },
  {
   "cell_type": "code",
   "execution_count": 4,
   "metadata": {},
   "outputs": [
    {
     "data": {
      "text/plain": [
       "'empty'"
      ]
     },
     "execution_count": 4,
     "metadata": {},
     "output_type": "execute_result"
    }
   ],
   "source": [
    "rest([4, 'empty'])"
   ]
  },
  {
   "cell_type": "code",
   "execution_count": 5,
   "metadata": {},
   "outputs": [],
   "source": [
    "def len_link(s):\n",
    "    if rest(s) == empty:\n",
    "        return 1\n",
    "    else:\n",
    "        return 1 + len_link(rest(s))\n",
    "def getitem_link(s, i):\n",
    "    if i == 0:\n",
    "        return first(s)\n",
    "    else:\n",
    "        return getitem_link(rest(s), i-1)"
   ]
  },
  {
   "cell_type": "code",
   "execution_count": 6,
   "metadata": {},
   "outputs": [
    {
     "data": {
      "text/plain": [
       "4"
      ]
     },
     "execution_count": 6,
     "metadata": {},
     "output_type": "execute_result"
    }
   ],
   "source": [
    "len_link(four)"
   ]
  },
  {
   "cell_type": "code",
   "execution_count": 7,
   "metadata": {},
   "outputs": [
    {
     "data": {
      "text/plain": [
       "3"
      ]
     },
     "execution_count": 7,
     "metadata": {},
     "output_type": "execute_result"
    }
   ],
   "source": [
    "getitem_link(four,2)"
   ]
  },
  {
   "cell_type": "code",
   "execution_count": 8,
   "metadata": {},
   "outputs": [],
   "source": [
    "def extend_link(s, t):\n",
    "    assert is_link(s) and is_link(t)\n",
    "    if s is empty:\n",
    "        return t\n",
    "    else:\n",
    "        return link(first(s), extend_link(rest(s), t))\n"
   ]
  },
  {
   "cell_type": "code",
   "execution_count": 9,
   "metadata": {},
   "outputs": [
    {
     "data": {
      "text/plain": [
       "[1, [2, [3, [4, [1, [2, [3, [4, 'empty']]]]]]]]"
      ]
     },
     "execution_count": 9,
     "metadata": {},
     "output_type": "execute_result"
    }
   ],
   "source": [
    "extend_link(four, four)"
   ]
  },
  {
   "cell_type": "code",
   "execution_count": 67,
   "metadata": {},
   "outputs": [],
   "source": [
    "def apply_to_all_link(f, s):\n",
    "    assert is_link(s)\n",
    "    if s is empty:\n",
    "        return s\n",
    "    else:\n",
    "        return link(f(first(s)), apply_to_all_link(f, rest(s)))"
   ]
  },
  {
   "cell_type": "code",
   "execution_count": 68,
   "metadata": {},
   "outputs": [
    {
     "data": {
      "text/plain": [
       "[1, [4, [9, [16, 'empty']]]]"
      ]
     },
     "execution_count": 68,
     "metadata": {},
     "output_type": "execute_result"
    }
   ],
   "source": [
    "apply_to_all_link(lambda x: x**2, four)"
   ]
  },
  {
   "cell_type": "code",
   "execution_count": 12,
   "metadata": {},
   "outputs": [
    {
     "data": {
      "text/plain": [
       "[1, [3, 'empty']]"
      ]
     },
     "execution_count": 12,
     "metadata": {},
     "output_type": "execute_result"
    }
   ],
   "source": [
    "def keep_if_link(f, s):\n",
    "    assert is_link(s)\n",
    "    if s == empty:\n",
    "        return s\n",
    "    else:\n",
    "        kept = keep_if_link(f, rest(s))\n",
    "        if f(first(s)):\n",
    "            return link(first(s), kept)\n",
    "        else:\n",
    "            return kept\n",
    "keep_if_link(lambda x: x % 2 == 1, four)"
   ]
  },
  {
   "cell_type": "code",
   "execution_count": 85,
   "metadata": {},
   "outputs": [
    {
     "name": "stdout",
     "output_type": "stream",
     "text": [
      "1\n",
      "2\n",
      "3\n",
      "4\n"
     ]
    }
   ],
   "source": [
    "def join_link(s, sperater):\n",
    "    if rest(s) == empty:\n",
    "        return str(first(s))\n",
    "    else:\n",
    "        return str(first(s)) + sperater + join_link(rest(s), sperater)\n",
    "    #print(sperater.join(joint(s)))\n",
    "\n",
    "print(join_link(four, \"\\n\"))"
   ]
  },
  {
   "cell_type": "code",
   "execution_count": 71,
   "metadata": {},
   "outputs": [
    {
     "data": {
      "text/plain": [
       "[[1, 'empty'], 'empty']"
      ]
     },
     "execution_count": 71,
     "metadata": {},
     "output_type": "execute_result"
    }
   ],
   "source": [
    "extend_link(empty, apply_to_all_link(lambda s: link(1, s), link(empty, empty)))"
   ]
  },
  {
   "cell_type": "code",
   "execution_count": 61,
   "metadata": {},
   "outputs": [],
   "source": [
    "def partitions(n, m):\n",
    "        \"\"\"Return a linked list of partitions of n using parts of up to m.\n",
    "        Each partition is represented as a linked list.\n",
    "        \"\"\"\n",
    "        if n == 0:\n",
    "            return link(empty, empty) # A list containing the empty partition\n",
    "        elif n < 0 or m == 0:\n",
    "            return empty\n",
    "        else:\n",
    "            using_m = partitions(n-m, m)\n",
    "            with_m = apply_to_all_link(lambda s: link(m, s), using_m)\n",
    "            without_m = partitions(n, m-1)\n",
    "            return extend_link(with_m, without_m)"
   ]
  },
  {
   "cell_type": "code",
   "execution_count": 75,
   "metadata": {},
   "outputs": [
    {
     "data": {
      "text/plain": [
       "[[4, [2, 'empty']],\n",
       " [[4, [1, [1, 'empty']]],\n",
       "  [[3, [3, 'empty']],\n",
       "   [[3, [2, [1, 'empty']]],\n",
       "    [[3, [1, [1, [1, 'empty']]]],\n",
       "     [[2, [2, [2, 'empty']]],\n",
       "      [[2, [2, [1, [1, 'empty']]]],\n",
       "       [[2, [1, [1, [1, [1, 'empty']]]]],\n",
       "        [[1, [1, [1, [1, [1, [1, 'empty']]]]]], 'empty']]]]]]]]]"
      ]
     },
     "execution_count": 75,
     "metadata": {},
     "output_type": "execute_result"
    }
   ],
   "source": [
    "partitions(6,4)"
   ]
  },
  {
   "cell_type": "code",
   "execution_count": 76,
   "metadata": {},
   "outputs": [],
   "source": [
    "def print_partition(n, m):\n",
    "    lists = partitions(n, m)\n",
    "    strings = apply_to_all_link(lambda s: join_link(s, \" + \"), lists)\n",
    "    print(join_link(strings, \"\\n\"))\n",
    "    return strings"
   ]
  },
  {
   "cell_type": "code",
   "execution_count": 81,
   "metadata": {},
   "outputs": [
    {
     "name": "stdout",
     "output_type": "stream",
     "text": [
      "4 + 2\n",
      "4 + 1 + 1\n",
      "3 + 3\n",
      "3 + 2 + 1\n",
      "3 + 1 + 1 + 1\n",
      "2 + 2 + 2\n",
      "2 + 2 + 1 + 1\n",
      "2 + 1 + 1 + 1 + 1\n",
      "1 + 1 + 1 + 1 + 1 + 1\n"
     ]
    },
    {
     "data": {
      "text/plain": [
       "['4 + 2',\n",
       " ['4 + 1 + 1',\n",
       "  ['3 + 3',\n",
       "   ['3 + 2 + 1',\n",
       "    ['3 + 1 + 1 + 1',\n",
       "     ['2 + 2 + 2',\n",
       "      ['2 + 2 + 1 + 1',\n",
       "       ['2 + 1 + 1 + 1 + 1', ['1 + 1 + 1 + 1 + 1 + 1', 'empty']]]]]]]]]"
      ]
     },
     "execution_count": 81,
     "metadata": {},
     "output_type": "execute_result"
    }
   ],
   "source": [
    "print_partition(6,4)"
   ]
  }
 ],
 "metadata": {
  "kernelspec": {
   "display_name": "Python 3",
   "language": "python",
   "name": "python3"
  },
  "language_info": {
   "codemirror_mode": {
    "name": "ipython",
    "version": 3
   },
   "file_extension": ".py",
   "mimetype": "text/x-python",
   "name": "python",
   "nbconvert_exporter": "python",
   "pygments_lexer": "ipython3",
   "version": "3.11.7"
  }
 },
 "nbformat": 4,
 "nbformat_minor": 2
}
