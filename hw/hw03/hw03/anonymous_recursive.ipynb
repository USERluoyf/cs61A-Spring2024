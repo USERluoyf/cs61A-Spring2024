{
 "cells": [
  {
   "cell_type": "code",
   "execution_count": 1,
   "metadata": {},
   "outputs": [],
   "source": [
    "def F(n):\n",
    "    if n == 0:\n",
    "        return 1\n",
    "    else:\n",
    "        return n * F(n-1)"
   ]
  },
  {
   "cell_type": "code",
   "execution_count": 2,
   "metadata": {},
   "outputs": [
    {
     "data": {
      "text/plain": [
       "120"
      ]
     },
     "execution_count": 2,
     "metadata": {},
     "output_type": "execute_result"
    }
   ],
   "source": [
    "F(5)"
   ]
  },
  {
   "cell_type": "code",
   "execution_count": 3,
   "metadata": {},
   "outputs": [],
   "source": [
    "def F(f,n):\n",
    "    if n == 0:\n",
    "        return 1\n",
    "    else:\n",
    "        return n * f(f, n-1)"
   ]
  },
  {
   "cell_type": "code",
   "execution_count": 4,
   "metadata": {},
   "outputs": [
    {
     "data": {
      "text/plain": [
       "120"
      ]
     },
     "execution_count": 4,
     "metadata": {},
     "output_type": "execute_result"
    }
   ],
   "source": [
    "F(F, 5)"
   ]
  },
  {
   "cell_type": "code",
   "execution_count": null,
   "metadata": {},
   "outputs": [],
   "source": [
    "def higher_order_f(f):\n",
    "    def func(n):\n",
    "        return f(f, n)\n",
    "    return func\n",
    "F_ = higher_order_f(F) # higher_order_f(F)(n) = F(F, n)"
   ]
  },
  {
   "cell_type": "code",
   "execution_count": 6,
   "metadata": {},
   "outputs": [
    {
     "data": {
      "text/plain": [
       "120"
      ]
     },
     "execution_count": 6,
     "metadata": {},
     "output_type": "execute_result"
    }
   ],
   "source": [
    "F_(5)"
   ]
  },
  {
   "cell_type": "code",
   "execution_count": null,
   "metadata": {},
   "outputs": [
    {
     "data": {
      "text/plain": [
       "<function __main__.<lambda>(f, n)>"
      ]
     },
     "execution_count": 7,
     "metadata": {},
     "output_type": "execute_result"
    }
   ],
   "source": [
    "#Anonymous function\n",
    "\"\"\"\n",
    "def F(f,n):\n",
    "    if n == 0:\n",
    "        return 1\n",
    "    else:\n",
    "        return n * f(f, n-1)\n",
    "\"\"\"\n",
    "#Rewrite it as\n",
    "lambda f, n: 1 if n == 0 else n * f(f, n-1) # func_1\n"
   ]
  },
  {
   "cell_type": "code",
   "execution_count": 8,
   "metadata": {},
   "outputs": [
    {
     "data": {
      "text/plain": [
       "120"
      ]
     },
     "execution_count": 8,
     "metadata": {},
     "output_type": "execute_result"
    }
   ],
   "source": [
    "a = lambda f, n: 1 if n == 0 else n * f(f, n-1)\n",
    "a(a, 5)"
   ]
  },
  {
   "cell_type": "code",
   "execution_count": null,
   "metadata": {},
   "outputs": [
    {
     "data": {
      "text/plain": [
       "<function __main__.<lambda>(f)>"
      ]
     },
     "execution_count": 9,
     "metadata": {},
     "output_type": "execute_result"
    }
   ],
   "source": [
    "#Anonymous function\n",
    "\"\"\"\n",
    "def higher_order_f(f):\n",
    "    def func(n):\n",
    "        return f(f, n)\n",
    "    return func\n",
    "\"\"\"\n",
    "#Rewrite it as\n",
    "lambda f: lambda n: f(f, n) #func_2"
   ]
  },
  {
   "cell_type": "code",
   "execution_count": 10,
   "metadata": {},
   "outputs": [
    {
     "data": {
      "text/plain": [
       "120"
      ]
     },
     "execution_count": 10,
     "metadata": {},
     "output_type": "execute_result"
    }
   ],
   "source": [
    "b = lambda f: lambda n: f(f, n)\n",
    "c = b(F)\n",
    "c(5)"
   ]
  },
  {
   "cell_type": "code",
   "execution_count": null,
   "metadata": {},
   "outputs": [],
   "source": [
    "#Take func_1 into func_2\n",
    "#func_1 lambda f, n: 1 if n == 0 else n * f(f, n-1)\n",
    "#func_2 lambda f: lambda n: f(f, n)\n",
    "\"\"\"\n",
    "Before anonymous, we have:\n",
    "F(f, n) -> f(f, n-1)\n",
    "After anonymous, we may call func_2 'g', then we have:\n",
    "g(f)(n) -> f(f)(n-1)\n",
    "\"\"\"\n",
    "lambda f: lambda n: 1 if n ==0 else n * f(f)(n-1) #func_3"
   ]
  },
  {
   "cell_type": "code",
   "execution_count": null,
   "metadata": {},
   "outputs": [],
   "source": [
    "lambda f: f(f)"
   ]
  },
  {
   "cell_type": "code",
   "execution_count": 11,
   "metadata": {},
   "outputs": [
    {
     "data": {
      "text/plain": [
       "120"
      ]
     },
     "execution_count": 11,
     "metadata": {},
     "output_type": "execute_result"
    }
   ],
   "source": [
    "g = (lambda f: f(f))(lambda f: lambda n: 1 if n ==0 else n * f(f)(n-1))\n",
    "g(5)"
   ]
  }
 ],
 "metadata": {
  "kernelspec": {
   "display_name": "Python 3",
   "language": "python",
   "name": "python3"
  },
  "language_info": {
   "codemirror_mode": {
    "name": "ipython",
    "version": 3
   },
   "file_extension": ".py",
   "mimetype": "text/x-python",
   "name": "python",
   "nbconvert_exporter": "python",
   "pygments_lexer": "ipython3",
   "version": "3.11.7"
  }
 },
 "nbformat": 4,
 "nbformat_minor": 2
}
