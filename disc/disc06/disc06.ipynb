{
 "cells": [
  {
   "cell_type": "markdown",
   "metadata": {},
   "source": [
    " This generator function yields all of the Fibonacci numbers."
   ]
  },
  {
   "cell_type": "code",
   "execution_count": 2,
   "metadata": {},
   "outputs": [
    {
     "data": {
      "text/plain": [
       "[0, 1, 1, 2, 3, 5, 8, 13, 21, 34]"
      ]
     },
     "execution_count": 2,
     "metadata": {},
     "output_type": "execute_result"
    }
   ],
   "source": [
    "def gen_fib():\n",
    "    n, add = 0, 1\n",
    "    while True:\n",
    "        yield n\n",
    "        n, add = add, n + add\n",
    "\n",
    "a = gen_fib()\n",
    "[next(a) for _ in range(10)]"
   ]
  },
  {
   "cell_type": "code",
   "execution_count": 3,
   "metadata": {},
   "outputs": [
    {
     "data": {
      "text/plain": [
       "[0, 1, 1, 2, 3, 5, 8, 13, 21, 34]"
      ]
     },
     "execution_count": 3,
     "metadata": {},
     "output_type": "execute_result"
    }
   ],
   "source": [
    "(lambda t: [next(t) for _ in  range(10)])(gen_fib())"
   ]
  },
  {
   "cell_type": "code",
   "execution_count": 2,
   "metadata": {},
   "outputs": [
    {
     "data": {
      "text/plain": [
       "[1, 0, 1, 1, 2, 3, 5, 8, 13]"
      ]
     },
     "execution_count": 2,
     "metadata": {},
     "output_type": "execute_result"
    }
   ],
   "source": [
    "def difference(t):\n",
    "    last_x = next(t)\n",
    "    for x in t:\n",
    "        yield x - last_x\n",
    "        last_x = x\n",
    "list(difference(iter([0, 1, 1, 2, 3, 5, 8, 13, 21, 34])))"
   ]
  },
  {
   "cell_type": "code",
   "execution_count": 3,
   "metadata": {},
   "outputs": [
    {
     "data": {
      "text/plain": [
       "[1, 1, 1, 1, 1, 1, 1, 1, 1]"
      ]
     },
     "execution_count": 3,
     "metadata": {},
     "output_type": "execute_result"
    }
   ],
   "source": [
    "[next(difference(iter([0, 1, 1, 2, 3, 5, 8, 13, 21, 34]))) for _ in range(9)]"
   ]
  },
  {
   "cell_type": "code",
   "execution_count": 4,
   "metadata": {},
   "outputs": [
    {
     "data": {
      "text/plain": [
       "[1, 0, 1, 1, 2, 3, 5, 8, 13]"
      ]
     },
     "execution_count": 4,
     "metadata": {},
     "output_type": "execute_result"
    }
   ],
   "source": [
    "a = difference(iter([0, 1, 1, 2, 3, 5, 8, 13, 21, 34]))\n",
    "[next(a) for _ in range(9)]"
   ]
  },
  {
   "cell_type": "code",
   "execution_count": 5,
   "metadata": {},
   "outputs": [
    {
     "name": "stdout",
     "output_type": "stream",
     "text": [
      "2 + 4\n",
      "1 + 1 + 4\n",
      "3 + 3\n",
      "1 + 2 + 3\n",
      "1 + 1 + 1 + 3\n",
      "2 + 2 + 2\n",
      "1 + 1 + 2 + 2\n",
      "1 + 1 + 1 + 1 + 2\n",
      "1 + 1 + 1 + 1 + 1 + 1\n"
     ]
    }
   ],
   "source": [
    "def partition_gen(n, m):\n",
    "    assert n > 0 and m > 0\n",
    "    if n == m:\n",
    "        yield str(n)\n",
    "    if n > m:\n",
    "        for i in partition_gen(n - m, m):\n",
    "            yield i + ' + ' + str(m)\n",
    "    if m > 1:\n",
    "        yield from partition_gen(n, m - 1)\n",
    "for partition in partition_gen(6, 4):\n",
    "    print(partition)"
   ]
  },
  {
   "cell_type": "code",
   "execution_count": null,
   "metadata": {},
   "outputs": [],
   "source": []
  }
 ],
 "metadata": {
  "kernelspec": {
   "display_name": "Python 3",
   "language": "python",
   "name": "python3"
  },
  "language_info": {
   "codemirror_mode": {
    "name": "ipython",
    "version": 3
   },
   "file_extension": ".py",
   "mimetype": "text/x-python",
   "name": "python",
   "nbconvert_exporter": "python",
   "pygments_lexer": "ipython3",
   "version": "3.11.7"
  }
 },
 "nbformat": 4,
 "nbformat_minor": 2
}
