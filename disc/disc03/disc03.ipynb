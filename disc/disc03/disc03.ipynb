{
 "cells": [
  {
   "cell_type": "code",
   "execution_count": 3,
   "metadata": {},
   "outputs": [
    {
     "name": "stdout",
     "output_type": "stream",
     "text": [
      "4\n",
      "3\n",
      "2\n",
      "1\n",
      "2\n",
      "3\n",
      "4\n"
     ]
    }
   ],
   "source": [
    "def swipe(n):\n",
    "    if n < 10:\n",
    "        print(n)\n",
    "    else:\n",
    "        print(n%10)\n",
    "        swipe(n//10)\n",
    "        print(n%10)\n",
    "\n",
    "swipe(1234)"
   ]
  },
  {
   "cell_type": "code",
   "execution_count": 4,
   "metadata": {},
   "outputs": [
    {
     "data": {
      "text/plain": [
       "48"
      ]
     },
     "execution_count": 4,
     "metadata": {},
     "output_type": "execute_result"
    }
   ],
   "source": [
    "def skip_factorial(n):\n",
    "    if n <= 2:\n",
    "        return n\n",
    "    else:\n",
    "        return n * skip_factorial(n-2)\n",
    "    \n",
    "skip_factorial(6)"
   ]
  },
  {
   "cell_type": "code",
   "execution_count": 2,
   "metadata": {},
   "outputs": [
    {
     "data": {
      "text/plain": [
       "True"
      ]
     },
     "execution_count": 2,
     "metadata": {},
     "output_type": "execute_result"
    }
   ],
   "source": [
    "def is_prime(n):\n",
    "    def check(i):\n",
    "        if i == n:\n",
    "            return True\n",
    "        elif n % i == 0:\n",
    "            return False\n",
    "        return check(i+1)\n",
    "    return check(2)\n",
    "\n",
    "is_prime(521)"
   ]
  },
  {
   "cell_type": "code",
   "execution_count": 5,
   "metadata": {},
   "outputs": [],
   "source": [
    "def hailstone(n):\n",
    "    print(n)\n",
    "    if n % 2 == 0:\n",
    "        return 1 + hailstone(n/2)\n",
    "    else:\n",
    "        if n == 1:\n",
    "            return 1\n",
    "        else:\n",
    "            return 1 + hailstone(3*n+1)"
   ]
  },
  {
   "cell_type": "code",
   "execution_count": 9,
   "metadata": {},
   "outputs": [
    {
     "name": "stdout",
     "output_type": "stream",
     "text": [
      "10\n",
      "5.0\n",
      "16.0\n",
      "8.0\n",
      "4.0\n",
      "2.0\n",
      "1.0\n"
     ]
    },
    {
     "data": {
      "text/plain": [
       "7"
      ]
     },
     "execution_count": 9,
     "metadata": {},
     "output_type": "execute_result"
    }
   ],
   "source": [
    "a = hailstone(10)\n",
    "a"
   ]
  },
  {
   "cell_type": "code",
   "execution_count": 10,
   "metadata": {},
   "outputs": [],
   "source": [
    "def has_seven(n):\n",
    "    if n == 0:\n",
    "        return False\n",
    "    elif n % 10 == 7:\n",
    "        return True\n",
    "    else:\n",
    "        return has_seven(n//10)"
   ]
  },
  {
   "cell_type": "code",
   "execution_count": 14,
   "metadata": {},
   "outputs": [
    {
     "data": {
      "text/plain": [
       "True"
      ]
     },
     "execution_count": 14,
     "metadata": {},
     "output_type": "execute_result"
    }
   ],
   "source": [
    "\n",
    "has_seven(114714)"
   ]
  },
  {
   "cell_type": "code",
   "execution_count": 15,
   "metadata": {},
   "outputs": [],
   "source": [
    "def sevens(n, k): #return the one say 'n' among these k players\n",
    "    def f(i,who,direction):\n",
    "        if i == n:\n",
    "            return who\n",
    "        if i % 7 == 0 or has_seven(i):\n",
    "            direction *= -1\n",
    "        who += direction\n",
    "        if who > k:\n",
    "            who = 1\n",
    "        if who < 1:\n",
    "            who = k\n",
    "        return f(i+1,who,direction)\n",
    "    return f(1,1,1)"
   ]
  },
  {
   "cell_type": "code",
   "execution_count": 22,
   "metadata": {},
   "outputs": [
    {
     "data": {
      "text/plain": [
       "5"
      ]
     },
     "execution_count": 22,
     "metadata": {},
     "output_type": "execute_result"
    }
   ],
   "source": [
    "sevens(9,5)\n"
   ]
  }
 ],
 "metadata": {
  "kernelspec": {
   "display_name": "Python 3",
   "language": "python",
   "name": "python3"
  },
  "language_info": {
   "codemirror_mode": {
    "name": "ipython",
    "version": 3
   },
   "file_extension": ".py",
   "mimetype": "text/x-python",
   "name": "python",
   "nbconvert_exporter": "python",
   "pygments_lexer": "ipython3",
   "version": "3.11.7"
  }
 },
 "nbformat": 4,
 "nbformat_minor": 2
}
