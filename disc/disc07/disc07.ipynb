{
 "cells": [
  {
   "cell_type": "markdown",
   "metadata": {},
   "source": [
    "**Q1: Draw**"
   ]
  },
  {
   "cell_type": "markdown",
   "metadata": {},
   "source": [
    "The draw function takes a list hand and a list of unique non-negative integers positions that are all less than the length of hand. It removes hand[p] for each p in positions and returns a list of those elements in the order they appeared in hand (not the order they appeared in positions)."
   ]
  },
  {
   "cell_type": "code",
   "execution_count": 3,
   "metadata": {},
   "outputs": [],
   "source": [
    "def draw(hand, position):\n",
    "    return list([hand.pop(i) for i in sorted(position, reverse=True)])"
   ]
  },
  {
   "cell_type": "code",
   "execution_count": 4,
   "metadata": {},
   "outputs": [
    {
     "data": {
      "text/plain": [
       "[10, 'Q', 'K']"
      ]
     },
     "execution_count": 4,
     "metadata": {},
     "output_type": "execute_result"
    }
   ],
   "source": [
    "hand = ['A', 'K', 'Q', 'J', 10, 9]\n",
    "draw(hand, [2, 1, 4])"
   ]
  },
  {
   "cell_type": "code",
   "execution_count": 5,
   "metadata": {},
   "outputs": [
    {
     "data": {
      "text/plain": [
       "[4, 2, 1]"
      ]
     },
     "execution_count": 5,
     "metadata": {},
     "output_type": "execute_result"
    }
   ],
   "source": [
    "sorted([2, 1, 4], reverse=True)"
   ]
  },
  {
   "cell_type": "markdown",
   "metadata": {},
   "source": [
    "**Q2: Keyboard**"
   ]
  },
  {
   "cell_type": "code",
   "execution_count": 6,
   "metadata": {},
   "outputs": [],
   "source": [
    "LOWERCASE_LETTERS = 'abcdefghijklmnopqrstuvwxyz'\n",
    "class Capslock:\n",
    "    def __init__(self):\n",
    "        self.pressed = 0\n",
    "\n",
    "    def press(self):\n",
    "        self.pressed += 1\n",
    "\n",
    "class Button:\n",
    "    caps_lock = Capslock()\n",
    "\n",
    "    def __init__(self, letter, output):\n",
    "        assert letter in LOWERCASE_LETTERS\n",
    "        self.letter = letter\n",
    "        self.output = output\n",
    "        self.pressed = 0\n",
    "\n",
    "    def press(self):\n",
    "        self.pressed += 1\n",
    "        if self.caps_lock.pressed % 2 ==1:\n",
    "            self.output(self.letter.upper())\n",
    "        else:\n",
    "            self.output(self.letter)\n",
    "        return self\n",
    "class Keyboard:\n",
    "    \"\"\"A keyboard.\n",
    "\n",
    "    >>> Button.caps_lock.pressed = 0  # Reset the caps_lock key\n",
    "    >>> bored = Keyboard()\n",
    "    >>> bored.type('hello')\n",
    "    >>> bored.typed\n",
    "    ['h', 'e', 'l', 'l', 'o']\n",
    "    >>> bored.keys['l'].pressed\n",
    "    2\n",
    "\n",
    "    >>> Button.caps_lock.press()\n",
    "    >>> bored.type('hello')\n",
    "    >>> bored.typed\n",
    "    ['h', 'e', 'l', 'l', 'o', 'H', 'E', 'L', 'L', 'O']\n",
    "    >>> bored.keys['l'].pressed\n",
    "    4\n",
    "    \"\"\"\n",
    "    def __init__(self):\n",
    "        self.typed = []\n",
    "        self.keys = {c: Button(c, lambda x: self.typed.append(x)) for c in LOWERCASE_LETTERS}  # Try a dictionary comprehension!\n",
    "\n",
    "    def type(self, word):\n",
    "        \"\"\"Press the button for each letter in word.\"\"\"\n",
    "        assert all([w in LOWERCASE_LETTERS for w in word]), 'word must be all lowercase'\n",
    "        \"*** YOUR CODE HERE ***\"\n",
    "        for w in word:\n",
    "            self.keys[w].press()\n",
    "    "
   ]
  },
  {
   "cell_type": "code",
   "execution_count": 8,
   "metadata": {},
   "outputs": [
    {
     "data": {
      "text/plain": [
       "['h', 'e', 'l', 'l', 'o']"
      ]
     },
     "execution_count": 8,
     "metadata": {},
     "output_type": "execute_result"
    }
   ],
   "source": [
    "bored = Keyboard()\n",
    "bored.type('hello')\n",
    "bored.typed"
   ]
  },
  {
   "cell_type": "markdown",
   "metadata": {},
   "source": [
    "**Q3: Bear**"
   ]
  },
  {
   "cell_type": "code",
   "execution_count": 9,
   "metadata": {},
   "outputs": [],
   "source": [
    "class Eye:\n",
    "    \"\"\"An eye.\n",
    "\n",
    "    >>> Eye().draw()\n",
    "    '0'\n",
    "    >>> print(Eye(False).draw(), Eye(True).draw())\n",
    "    0 -\n",
    "    \"\"\"\n",
    "    def __init__(self, closed=False):\n",
    "        self.closed = closed\n",
    "\n",
    "    def draw(self):\n",
    "        if self.closed:\n",
    "            return '-'\n",
    "        else:\n",
    "            return '0'\n",
    "\n",
    "class Bear:\n",
    "    \"\"\"A bear.\n",
    "\n",
    "    >>> Bear().print()\n",
    "    ? 0o0?\n",
    "    \"\"\"\n",
    "    def __init__(self):\n",
    "        self.nose_and_mouth = 'o'\n",
    "\n",
    "    def next_eye(self):\n",
    "        return Eye()\n",
    "\n",
    "    def print(self):\n",
    "        left, right = self.next_eye(), self.next_eye()\n",
    "        print('? ' + left.draw() + self.nose_and_mouth + right.draw() + '?')"
   ]
  },
  {
   "cell_type": "code",
   "execution_count": 22,
   "metadata": {},
   "outputs": [],
   "source": [
    "class SleepyBear(Bear):\n",
    "    \"\"\"A bear with closed eyes.\n",
    "\n",
    "    >>> SleepyBear().print()\n",
    "    ? -o-?\n",
    "    \"\"\"\n",
    "    \"*** YOUR CODE HERE ***\"\n",
    "    def next_eye(self):\n",
    "        return Eye(True)\n",
    "class WinkingBear(Bear):\n",
    "    \"\"\"A bear whose left eye is different from its right eye.\n",
    "\n",
    "    >>> WinkingBear().print()\n",
    "    ? -o0?\n",
    "    \"\"\"\n",
    "    def __init__(self):\n",
    "        \"*** YOUR CODE HERE ***\"\n",
    "        super().__init__()\n",
    "        self.eye = 0\n",
    "    def next_eye(self):\n",
    "        \"*** YOUR CODE HERE ***\"\n",
    "        self.eye = 1 - self.eye\n",
    "        return Eye() if self.eye == 0 else Eye(True)"
   ]
  },
  {
   "cell_type": "code",
   "execution_count": 23,
   "metadata": {},
   "outputs": [
    {
     "name": "stdout",
     "output_type": "stream",
     "text": [
      "? -o-?\n"
     ]
    }
   ],
   "source": [
    "SleepyBear().print()"
   ]
  },
  {
   "cell_type": "code",
   "execution_count": 25,
   "metadata": {},
   "outputs": [
    {
     "name": "stdout",
     "output_type": "stream",
     "text": [
      "? -o0?\n"
     ]
    }
   ],
   "source": [
    "WinkingBear().print()"
   ]
  },
  {
   "cell_type": "code",
   "execution_count": null,
   "metadata": {},
   "outputs": [],
   "source": []
  }
 ],
 "metadata": {
  "kernelspec": {
   "display_name": "Python 3",
   "language": "python",
   "name": "python3"
  },
  "language_info": {
   "codemirror_mode": {
    "name": "ipython",
    "version": 3
   },
   "file_extension": ".py",
   "mimetype": "text/x-python",
   "name": "python",
   "nbconvert_exporter": "python",
   "pygments_lexer": "ipython3",
   "version": "3.11.7"
  }
 },
 "nbformat": 4,
 "nbformat_minor": 2
}
