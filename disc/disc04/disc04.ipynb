{
 "cells": [
  {
   "cell_type": "code",
   "execution_count": 1,
   "metadata": {},
   "outputs": [
    {
     "data": {
      "text/plain": [
       "6435"
      ]
     },
     "execution_count": 1,
     "metadata": {},
     "output_type": "execute_result"
    }
   ],
   "source": [
    "def paths(m, n):\n",
    "    if m == 1 or n == 1:\n",
    "        return 1\n",
    "    else:\n",
    "        return paths(m-1, n) + paths(m, n-1)\n",
    "paths(8,9)\n"
   ]
  },
  {
   "cell_type": "code",
   "execution_count": 6,
   "metadata": {},
   "outputs": [
    {
     "data": {
      "text/plain": [
       "100"
      ]
     },
     "execution_count": 6,
     "metadata": {},
     "output_type": "execute_result"
    }
   ],
   "source": [
    "def max_product(s):\n",
    "    if len(s) == 1:\n",
    "        return s[0]\n",
    "    if s == []:\n",
    "        return 1\n",
    "    else:\n",
    "        return max(s[0] * max_product(s[2:]), max_product(s[1:]))\n",
    "max_product([5, 10, 5, 10, 4])    \n"
   ]
  },
  {
   "cell_type": "code",
   "execution_count": 12,
   "metadata": {},
   "outputs": [],
   "source": [
    "def sum(n, m):\n",
    "    if n < 0 or m == 0:\n",
    "        return []\n",
    "    elif n == 0:\n",
    "        return [[]]\n",
    "    result = []\n",
    "    for k in range(1, m+1):\n",
    "        result = result + [[k] + s for s in sum(n-k, m) if s == [] or s[0] != k]\n",
    "    return result"
   ]
  },
  {
   "cell_type": "code",
   "execution_count": 13,
   "metadata": {},
   "outputs": [
    {
     "data": {
      "text/plain": [
       "[[1, 2, 1, 2],\n",
       " [1, 2, 3],\n",
       " [1, 3, 2],\n",
       " [1, 4, 1],\n",
       " [2, 1, 2, 1],\n",
       " [2, 1, 3],\n",
       " [2, 3, 1],\n",
       " [2, 4],\n",
       " [3, 1, 2],\n",
       " [3, 2, 1],\n",
       " [4, 2]]"
      ]
     },
     "execution_count": 13,
     "metadata": {},
     "output_type": "execute_result"
    }
   ],
   "source": [
    "sum(6,4)"
   ]
  }
 ],
 "metadata": {
  "kernelspec": {
   "display_name": "Python 3",
   "language": "python",
   "name": "python3"
  },
  "language_info": {
   "codemirror_mode": {
    "name": "ipython",
    "version": 3
   },
   "file_extension": ".py",
   "mimetype": "text/x-python",
   "name": "python",
   "nbconvert_exporter": "python",
   "pygments_lexer": "ipython3",
   "version": "3.11.7"
  }
 },
 "nbformat": 4,
 "nbformat_minor": 2
}
